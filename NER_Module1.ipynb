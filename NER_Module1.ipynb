{
  "nbformat": 4,
  "nbformat_minor": 0,
  "metadata": {
    "colab": {
      "name": "NER-Module1.ipynb",
      "provenance": [],
      "authorship_tag": "ABX9TyOgEr0sqmFSN6Kz8k0fCl7Y",
      "include_colab_link": true
    },
    "kernelspec": {
      "name": "python3",
      "display_name": "Python 3"
    },
    "language_info": {
      "name": "python"
    }
  },
  "cells": [
    {
      "cell_type": "markdown",
      "metadata": {
        "id": "view-in-github",
        "colab_type": "text"
      },
      "source": [
        "<a href=\"https://colab.research.google.com/github/asha15/FYP/blob/master/NER_Module1.ipynb\" target=\"_parent\"><img src=\"https://colab.research.google.com/assets/colab-badge.svg\" alt=\"Open In Colab\"/></a>"
      ]
    },
    {
      "cell_type": "code",
      "metadata": {
        "id": "zLfnR5XjTwoR"
      },
      "source": [
        "import spacy"
      ],
      "execution_count": 2,
      "outputs": []
    },
    {
      "cell_type": "code",
      "metadata": {
        "colab": {
          "base_uri": "https://localhost:8080/"
        },
        "id": "h2XjF8SkT9s4",
        "outputId": "b0fb5f08-f467-4438-b130-73e117a2a5e8"
      },
      "source": [
        "nlp=spacy.load('en_core_web_sm')\n",
        "nlp.pipe_names"
      ],
      "execution_count": 3,
      "outputs": [
        {
          "output_type": "execute_result",
          "data": {
            "text/plain": [
              "['tagger', 'parser', 'ner']"
            ]
          },
          "metadata": {
            "tags": []
          },
          "execution_count": 3
        }
      ]
    },
    {
      "cell_type": "code",
      "metadata": {
        "id": "KT8uxQD1UUR1"
      },
      "source": [
        "train = [\n",
        "         (\"Home page login form font type should be change\", {\"entities\": [(1,4, \"user interface\"), \n",
        "                                                                           (11, 20, \"main component\"),\n",
        "                                                                           (21, 29, \"sub component\")]}),\n",
        "         (\"Home page login form font colour should be change\", {\"entities\": [\n",
        "                                                                             (1,4, \"user interface\"),\n",
        "                                                                             (11, 20, \"main component\"),\n",
        "                                                                             (21, 29, \"sub component\")\n",
        "         ]})\n",
        "         \n",
        "        ]"
      ],
      "execution_count": 4,
      "outputs": []
    },
    {
      "cell_type": "code",
      "metadata": {
        "colab": {
          "base_uri": "https://localhost:8080/"
        },
        "id": "V091rWYUV6N0",
        "outputId": "0c6cf9b9-06f6-4909-d2dc-1ee5cb4fcbe1"
      },
      "source": [
        "nlp.pipe_names"
      ],
      "execution_count": 5,
      "outputs": [
        {
          "output_type": "execute_result",
          "data": {
            "text/plain": [
              "['tagger', 'parser', 'ner']"
            ]
          },
          "metadata": {
            "tags": []
          },
          "execution_count": 5
        }
      ]
    },
    {
      "cell_type": "code",
      "metadata": {
        "id": "ePyqftDmV_Bh"
      },
      "source": [
        "ner=nlp.get_pipe(\"ner\")"
      ],
      "execution_count": 6,
      "outputs": []
    },
    {
      "cell_type": "code",
      "metadata": {
        "id": "GKDDb6o7WGZo"
      },
      "source": [
        "for _, annotations in train:\n",
        "  for ent in annotations.get(\"entities\"):\n",
        "      ner.add_label(ent[2])"
      ],
      "execution_count": 7,
      "outputs": []
    },
    {
      "cell_type": "code",
      "metadata": {
        "id": "vxc8zvvMWMDa"
      },
      "source": [
        "disable_pipes = [pipe for pipe in nlp.pipe_names if pipe != 'ner']"
      ],
      "execution_count": 8,
      "outputs": []
    },
    {
      "cell_type": "code",
      "metadata": {
        "colab": {
          "base_uri": "https://localhost:8080/"
        },
        "id": "ae4cauN5Wb9m",
        "outputId": "637dd3dd-73ab-449c-f04d-ce9f9818154f"
      },
      "source": [
        "import random\n",
        "from spacy.util import minibatch, compounding\n",
        "from pathlib import Path\n",
        "\n",
        "with nlp.disable_pipes(*disable_pipes):\n",
        "  optimizer = nlp.resume_training()\n",
        "\n",
        "  for iteration in range(100):\n",
        "\n",
        "    random.shuffle(train)\n",
        "    losses = {}\n",
        "\n",
        "    batches = minibatch(train, size=compounding(1.0, 4.0, 1.001))\n",
        "    for batch in batches:\n",
        "        text, annotation = zip(*batch)\n",
        "        nlp.update(\n",
        "                    text,  \n",
        "                    annotation, \n",
        "                    drop=0.5, \n",
        "                    losses=losses,\n",
        "                    sgd=optimizer\n",
        "                )\n",
        "        print(\"Losses\", losses)"
      ],
      "execution_count": 9,
      "outputs": [
        {
          "output_type": "stream",
          "text": [
            "Losses {'ner': 8.509709212223243}\n",
            "Losses {'ner': 15.346998722518038}\n",
            "Losses {'ner': 8.79446584772064}\n",
            "Losses {'ner': 16.869814494556984}\n",
            "Losses {'ner': 6.590137654229411}\n",
            "Losses {'ner': 15.42895203295251}\n",
            "Losses {'ner': 0.5529369577191359}\n",
            "Losses {'ner': 9.296749719521898}\n",
            "Losses {'ner': 5.653136241974153}\n",
            "Losses {'ner': 11.19515487928286}\n",
            "Losses {'ner': 4.333490666304262}\n",
            "Losses {'ner': 11.402769037001976}\n",
            "Losses {'ner': 4.425093501797164}\n",
            "Losses {'ner': 11.878853751803035}\n",
            "Losses {'ner': 4.641536829573113}\n",
            "Losses {'ner': 12.080518350446653}\n",
            "Losses {'ner': 5.865587180521341}\n",
            "Losses {'ner': 12.050833541030212}\n",
            "Losses {'ner': 6.50951887443127}\n",
            "Losses {'ner': 12.766626517413746}\n",
            "Losses {'ner': 8.012027410377708}\n",
            "Losses {'ner': 12.351998888062393}\n",
            "Losses {'ner': 4.205599061076432}\n",
            "Losses {'ner': 12.450686678619043}\n",
            "Losses {'ner': 5.9799188587475385}\n",
            "Losses {'ner': 13.851268371316934}\n",
            "Losses {'ner': 5.174226496405936}\n",
            "Losses {'ner': 12.082838072888984}\n",
            "Losses {'ner': 8.430838863740632}\n",
            "Losses {'ner': 20.657259080002973}\n",
            "Losses {'ner': 5.248479859602435}\n",
            "Losses {'ner': 11.164902035167486}\n",
            "Losses {'ner': 8.599674940370164}\n",
            "Losses {'ner': 13.28834951939541}\n",
            "Losses {'ner': 4.356087085627834}\n",
            "Losses {'ner': 15.121659298264305}\n",
            "Losses {'ner': 7.503673515369883}\n",
            "Losses {'ner': 13.157902668835959}\n",
            "Losses {'ner': 2.4351693418478817}\n",
            "Losses {'ner': 9.432533101442573}\n",
            "Losses {'ner': 8.229821166023612}\n",
            "Losses {'ner': 16.133907967345294}\n",
            "Losses {'ner': 6.054868140876351}\n",
            "Losses {'ner': 9.937991826685902}\n",
            "Losses {'ner': 6.584969839313999}\n",
            "Losses {'ner': 10.704261359021984}\n",
            "Losses {'ner': 8.653520472347736}\n",
            "Losses {'ner': 12.786096394574997}\n",
            "Losses {'ner': 4.47937395167537}\n",
            "Losses {'ner': 7.930162554373965}\n",
            "Losses {'ner': 5.996353667237183}\n",
            "Losses {'ner': 11.536171996733668}\n",
            "Losses {'ner': 8.21762274618959}\n",
            "Losses {'ner': 14.071223974315217}\n",
            "Losses {'ner': 5.062171576551918}\n",
            "Losses {'ner': 11.271488922131539}\n",
            "Losses {'ner': 7.200045467456221}\n",
            "Losses {'ner': 14.504022779859952}\n",
            "Losses {'ner': 6.934491786174476}\n",
            "Losses {'ner': 9.990785430352844}\n",
            "Losses {'ner': 6.8390296747675166}\n",
            "Losses {'ner': 12.257586149964482}\n",
            "Losses {'ner': 8.03764928097371}\n",
            "Losses {'ner': 11.275700821046485}\n",
            "Losses {'ner': 6.015372031969491}\n",
            "Losses {'ner': 11.495408197069082}\n",
            "Losses {'ner': 2.0669881187350256}\n",
            "Losses {'ner': 4.575918280578662}\n",
            "Losses {'ner': 6.939530347357504}\n",
            "Losses {'ner': 14.229273408607696}\n",
            "Losses {'ner': 9.255616133566946}\n",
            "Losses {'ner': 15.591445214580745}\n",
            "Losses {'ner': 6.312060456722975}\n",
            "Losses {'ner': 11.117556244251318}\n",
            "Losses {'ner': 3.6078382082050666}\n",
            "Losses {'ner': 8.93876724387519}\n",
            "Losses {'ner': 5.449134309310466}\n",
            "Losses {'ner': 10.807969985355157}\n",
            "Losses {'ner': 8.024537436198443}\n",
            "Losses {'ner': 15.570685265527572}\n",
            "Losses {'ner': 4.622601758048404}\n",
            "Losses {'ner': 13.762219651893247}\n",
            "Losses {'ner': 5.829475745675154}\n",
            "Losses {'ner': 14.026909494888969}\n",
            "Losses {'ner': 5.266663561109453}\n",
            "Losses {'ner': 10.410886370111257}\n",
            "Losses {'ner': 5.960789119359106}\n",
            "Losses {'ner': 9.652524266508408}\n",
            "Losses {'ner': 6.7889486867934465}\n",
            "Losses {'ner': 14.347669119015336}\n",
            "Losses {'ner': 5.323864496806017}\n",
            "Losses {'ner': 12.591584721141807}\n",
            "Losses {'ner': 7.845469200052321}\n",
            "Losses {'ner': 12.939406404271722}\n",
            "Losses {'ner': 5.135473793525307}\n",
            "Losses {'ner': 10.743306095825005}\n",
            "Losses {'ner': 5.7948956933105364}\n",
            "Losses {'ner': 13.09719239140395}\n",
            "Losses {'ner': 3.912115165963769}\n",
            "Losses {'ner': 8.905618496239185}\n",
            "Losses {'ner': 5.571530027315021}\n",
            "Losses {'ner': 12.87567702714776}\n",
            "Losses {'ner': 6.807675569318235}\n",
            "Losses {'ner': 14.718962608836591}\n",
            "Losses {'ner': 6.6100870333611965}\n",
            "Losses {'ner': 10.57383478120056}\n",
            "Losses {'ner': 5.682350434362888}\n",
            "Losses {'ner': 13.145080842077732}\n",
            "Losses {'ner': 2.0976292206905782}\n",
            "Losses {'ner': 8.951486469944939}\n",
            "Losses {'ner': 6.069423244800419}\n",
            "Losses {'ner': 12.4139065570198}\n",
            "Losses {'ner': 5.883022477850318}\n",
            "Losses {'ner': 11.615653732791543}\n",
            "Losses {'ner': 6.545503668487072}\n",
            "Losses {'ner': 12.09272601082921}\n",
            "Losses {'ner': 1.2437823051586747}\n",
            "Losses {'ner': 5.219511291012168}\n",
            "Losses {'ner': 4.61688287094905}\n",
            "Losses {'ner': 8.759474704086026}\n",
            "Losses {'ner': 5.840724709501956}\n",
            "Losses {'ner': 12.014519591873977}\n",
            "Losses {'ner': 3.791515462100506}\n",
            "Losses {'ner': 7.748951765475795}\n",
            "Losses {'ner': 6.339328745380044}\n",
            "Losses {'ner': 11.818434313405305}\n",
            "Losses {'ner': 6.052694020792842}\n",
            "Losses {'ner': 9.218510884325951}\n",
            "Losses {'ner': 6.986830580979586}\n",
            "Losses {'ner': 10.629818702116609}\n",
            "Losses {'ner': 8.66208733431995}\n",
            "Losses {'ner': 14.542543492840196}\n",
            "Losses {'ner': 7.107389589305967}\n",
            "Losses {'ner': 15.002247711177915}\n",
            "Losses {'ner': 4.88492787303403}\n",
            "Losses {'ner': 10.127883958164603}\n",
            "Losses {'ner': 7.341225480660796}\n",
            "Losses {'ner': 15.750994606874883}\n",
            "Losses {'ner': 4.327000079676509}\n",
            "Losses {'ner': 9.981131974607706}\n",
            "Losses {'ner': 6.904327726457268}\n",
            "Losses {'ner': 14.901793629843269}\n",
            "Losses {'ner': 5.672717022127472}\n",
            "Losses {'ner': 12.355128718889318}\n",
            "Losses {'ner': 3.2260235131980153}\n",
            "Losses {'ner': 10.241103163323714}\n",
            "Losses {'ner': 3.8180952108116344}\n",
            "Losses {'ner': 8.46452300540409}\n",
            "Losses {'ner': 6.371123205637559}\n",
            "Losses {'ner': 8.833214279613458}\n",
            "Losses {'ner': 2.986909955739975}\n",
            "Losses {'ner': 8.799111135303974}\n",
            "Losses {'ner': 6.361144129299646}\n",
            "Losses {'ner': 12.361716257521039}\n",
            "Losses {'ner': 5.934816127642989}\n",
            "Losses {'ner': 9.657603277330054}\n",
            "Losses {'ner': 4.881724389037117}\n",
            "Losses {'ner': 12.251415658509359}\n",
            "Losses {'ner': 6.4064980410039425}\n",
            "Losses {'ner': 10.516675995313562}\n",
            "Losses {'ner': 7.990892084315419}\n",
            "Losses {'ner': 12.611910642823204}\n",
            "Losses {'ner': 7.939368324354291}\n",
            "Losses {'ner': 14.059050354640931}\n",
            "Losses {'ner': 2.6729197846725583}\n",
            "Losses {'ner': 9.765301149338484}\n",
            "Losses {'ner': 1.4923724690452218}\n",
            "Losses {'ner': 6.616509919054806}\n",
            "Losses {'ner': 3.709108229726553}\n",
            "Losses {'ner': 8.305987677071244}\n",
            "Losses {'ner': 1.5720179475029}\n",
            "Losses {'ner': 7.203058706887532}\n",
            "Losses {'ner': 4.557065699598752}\n",
            "Losses {'ner': 8.856540621141903}\n",
            "Losses {'ner': 5.483558131381869}\n",
            "Losses {'ner': 14.24798290245235}\n",
            "Losses {'ner': 3.9259986830875278}\n",
            "Losses {'ner': 5.6699213758111}\n",
            "Losses {'ner': 6.270931398496032}\n",
            "Losses {'ner': 10.165456462651491}\n",
            "Losses {'ner': 5.9814928497653455}\n",
            "Losses {'ner': 10.85480999830179}\n",
            "Losses {'ner': 7.177654152736068}\n",
            "Losses {'ner': 12.191763024777174}\n",
            "Losses {'ner': 5.339896731078625}\n",
            "Losses {'ner': 11.971741518005729}\n",
            "Losses {'ner': 5.947663171333261}\n",
            "Losses {'ner': 10.157301020095474}\n",
            "Losses {'ner': 5.79438934288919}\n",
            "Losses {'ner': 10.524099397240207}\n",
            "Losses {'ner': 7.903676116839051}\n",
            "Losses {'ner': 12.370151455979794}\n",
            "Losses {'ner': 6.190965009853244}\n",
            "Losses {'ner': 10.931132083758712}\n",
            "Losses {'ner': 4.453813448548317}\n",
            "Losses {'ner': 9.657714799046516}\n",
            "Losses {'ner': 4.421113787218928}\n",
            "Losses {'ner': 9.226119280443527}\n",
            "Losses {'ner': 5.6334333725390024}\n",
            "Losses {'ner': 10.600312522496097}\n"
          ],
          "name": "stdout"
        }
      ]
    },
    {
      "cell_type": "code",
      "metadata": {
        "colab": {
          "base_uri": "https://localhost:8080/",
          "height": 106
        },
        "id": "bea1LFzdWl0x",
        "outputId": "d3958378-ce52-4e58-d95a-97213d2274f6"
      },
      "source": [
        "from spacy import displacy\n",
        "\n",
        "doc = nlp(\"Home page login form button colour should be change\")\n",
        "for ent in doc.ents:\n",
        "    print(ent.text, ent.start_char, ent.end_char, ent.label_)\n",
        "displacy.render(nlp(doc.text),style='ent', jupyter=True)"
      ],
      "execution_count": 11,
      "outputs": [
        {
          "output_type": "stream",
          "text": [
            "/usr/lib/python3.7/runpy.py:193: UserWarning: [W006] No entities to visualize found in Doc object. If this is surprising to you, make sure the Doc was processed using a model that supports named entity recognition, and check the `doc.ents` property manually if necessary.\n",
            "  \"__main__\", mod_spec)\n"
          ],
          "name": "stderr"
        },
        {
          "output_type": "display_data",
          "data": {
            "text/html": [
              "<span class=\"tex2jax_ignore\"><div class=\"entities\" style=\"line-height: 2.5; direction: ltr\">Home page login form button colour should be change</div></span>"
            ],
            "text/plain": [
              "<IPython.core.display.HTML object>"
            ]
          },
          "metadata": {
            "tags": []
          }
        }
      ]
    }
  ]
}